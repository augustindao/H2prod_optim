{
 "cells": [
  {
   "cell_type": "code",
   "execution_count": 37,
   "metadata": {
    "colab": {},
    "colab_type": "code",
    "id": "iwY_k0LrtwcR"
   },
   "outputs": [],
   "source": [
    "# Set current working directory\n",
    "import os\n",
    "curr_dir = os.getcwd()"
   ]
  },
  {
   "cell_type": "markdown",
   "metadata": {
    "colab_type": "text",
    "id": "Q_KAZ9pDMyCN"
   },
   "source": [
    "1. Electricty price data\n"
   ]
  },
  {
   "cell_type": "code",
   "execution_count": 38,
   "metadata": {
    "colab": {},
    "colab_type": "code",
    "id": "yRdVFCMLM3GB"
   },
   "outputs": [],
   "source": [
    "from datetime import datetime, timedelta\n",
    "\n",
    "import requests\n",
    "import lxml.html as lh\n",
    "import pandas as pd\n",
    "import numpy as np\n",
    "\n",
    "from bs4 import BeautifulSoup"
   ]
  },
  {
   "cell_type": "code",
   "execution_count": 39,
   "metadata": {
    "colab": {},
    "colab_type": "code",
    "id": "q0XYq70ANfj6"
   },
   "outputs": [],
   "source": [
    "url = 'https://www.epexspot.com/fr/donnees_de_marche/dayaheadfixing/auction-table/2018-01-14/FR'\n",
    "\n",
    "def parse_price_table(url):\n",
    "\n",
    "    # Get HTML content of url webpage\n",
    "    page = requests.get(url).text\n",
    "    # Creat BeautifulSoup object\n",
    "    soup = BeautifulSoup(page, 'lxml')\n",
    "    # Isolate and store hourly price table\n",
    "    hours_table = soup.find_all('table')[2]\n",
    "    df = pd.read_html(str(hours_table), thousands = ' ', decimal=',')[0]\n",
    "  \n",
    "    # Clean dataframe \n",
    "    df.rename(columns={'Unnamed: 0':'Time', 'Unnamed: 1':'Unit'}, inplace=True)\n",
    "    df = df.fillna(method = 'ffill')\n",
    "    df.replace(to_replace = \"â¬/MWh\", value = \"€/MWh\", inplace=True)\n",
    "    \n",
    "    # Re-shape dataframe\n",
    "    df = df.set_index(['Time','Unit'])\n",
    "    df = df.transpose().stack('Time')\n",
    "\n",
    "    return df"
   ]
  },
  {
   "cell_type": "code",
   "execution_count": 40,
   "metadata": {
    "colab": {},
    "colab_type": "code",
    "id": "5k9LILLzrmfN"
   },
   "outputs": [],
   "source": [
    "def get_week_data(start_datetime):\n",
    "    \"\"\"\n",
    "    Scraps electrcity price for the week preceding date given (included)\n",
    "    \"\"\"\n",
    "    \n",
    "    # Time reference variables\n",
    "    week_end = start_datetime + timedelta(6)\n",
    "   \n",
    "    # URL of page hosting data for given week\n",
    "    url = f'https://www.epexspot.com/fr/donnees_de_marche/dayaheadfixing/auction-table/{week_end.date()}/FR' \n",
    "    \n",
    "    # Parse data table on Epex Spot \n",
    "    week_data = parse_price_table(url)\n",
    "    \n",
    "    # TEMPORARY FIX - drop extra observation\n",
    "    if week_end == datetime(2018, 10, 28):\n",
    "        week_data.drop('02b - 03', level='Time', inplace = True)\n",
    "\n",
    "    # Create time index by hour\n",
    "    datetime_index = [start_datetime + timedelta(hours = i) for i in range(0, 24*7)]\n",
    "\n",
    "    # Change dataframe index to hours\n",
    "    week_data.index = datetime_index\n",
    "    \n",
    "    return week_data"
   ]
  },
  {
   "cell_type": "code",
   "execution_count": 41,
   "metadata": {
    "colab": {},
    "colab_type": "code",
    "id": "_hLmzY5InY6g"
   },
   "outputs": [],
   "source": [
    "# Create dataframe to store parsed data\n",
    "FR_price_data = pd.DataFrame()\n",
    "\n",
    "#initialize loop\n",
    "current_date = datetime(2018, 1, 1)\n",
    "\n",
    "while current_date.year < 2019:\n",
    "    # fetch data of corresponding week\n",
    "    week_data = get_week_data(current_date)\n",
    "    # add week data to dataframe\n",
    "    FR_price_data = pd.concat([FR_price_data, week_data])\n",
    "    # increment one week\n",
    "    current_date = current_date + timedelta(7)\n",
    "\n",
    "elec_price_2018 = FR_price_data[FR_price_data.index.year.isin(['2018'])]\n",
    "elec_price_2018.index.names = ['Date']"
   ]
  },
  {
   "cell_type": "code",
   "execution_count": 43,
   "metadata": {
    "colab": {
     "base_uri": "https://localhost:8080/",
     "height": 34
    },
    "colab_type": "code",
    "id": "-I41phR_0kwc",
    "outputId": "08513d08-6aa1-482f-9311-1ba57ae5feff"
   },
   "outputs": [],
   "source": [
    "# Save grid price data in a csv\n",
    "elec_price_2018.to_csv('FR_grid_price.csv')"
   ]
  },
  {
   "cell_type": "markdown",
   "metadata": {
    "colab_type": "text",
    "id": "EPvQ2HxvAKH4"
   },
   "source": [
    "2. EV Unit production"
   ]
  },
  {
   "cell_type": "code",
   "execution_count": 44,
   "metadata": {
    "colab": {
     "base_uri": "https://localhost:8080/",
     "height": 238
    },
    "colab_type": "code",
    "id": "eK0k7Sspq-t0",
    "outputId": "54e11700-14b3-4531-a2ec-d05a571c705a"
   },
   "outputs": [
    {
     "name": "stdout",
     "output_type": "stream",
     "text": [
      "Requirement already satisfied: DateTimeRange in /Users/augustin/opt/anaconda3/lib/python3.7/site-packages (0.6.1)\n",
      "Requirement already satisfied: python-dateutil<3.0.0,>=2.4.2 in /Users/augustin/opt/anaconda3/lib/python3.7/site-packages (from DateTimeRange) (2.8.0)\n",
      "Requirement already satisfied: setuptools>=38.3.0 in /Users/augustin/opt/anaconda3/lib/python3.7/site-packages (from DateTimeRange) (41.4.0)\n",
      "Requirement already satisfied: typepy[datetime]<1.0.0,>=0.6.0 in /Users/augustin/opt/anaconda3/lib/python3.7/site-packages (from DateTimeRange) (0.6.0)\n",
      "Requirement already satisfied: six>=1.5 in /Users/augustin/opt/anaconda3/lib/python3.7/site-packages (from python-dateutil<3.0.0,>=2.4.2->DateTimeRange) (1.12.0)\n",
      "Requirement already satisfied: mbstrdecoder[all]<1.0.0,>=0.8.0 in /Users/augustin/opt/anaconda3/lib/python3.7/site-packages (from typepy[datetime]<1.0.0,>=0.6.0->DateTimeRange) (0.8.1)\n",
      "Requirement already satisfied: pytz>=2018.9; extra == \"datetime\" in /Users/augustin/opt/anaconda3/lib/python3.7/site-packages (from typepy[datetime]<1.0.0,>=0.6.0->DateTimeRange) (2019.3)\n",
      "Requirement already satisfied: chardet<4.0.0,>=3.0.4; extra == \"all\" in /Users/augustin/opt/anaconda3/lib/python3.7/site-packages (from mbstrdecoder[all]<1.0.0,>=0.8.0->typepy[datetime]<1.0.0,>=0.6.0->DateTimeRange) (3.0.4)\n",
      "Note: you may need to restart the kernel to use updated packages.\n"
     ]
    }
   ],
   "source": [
    "pip install DateTimeRange"
   ]
  },
  {
   "cell_type": "code",
   "execution_count": 45,
   "metadata": {
    "colab": {},
    "colab_type": "code",
    "id": "AuW8zP8kAQoO"
   },
   "outputs": [],
   "source": [
    "import datetimerange\n",
    "import math\n",
    "from datetimerange import DateTimeRange\n",
    "\n",
    "time_range = DateTimeRange(\"2018-01-01T00:00:00\", \"2018-12-31T23:00:00\")\n",
    "year_hours = list(time_range.range(timedelta(hours=1)))\n"
   ]
  },
  {
   "cell_type": "code",
   "execution_count": 54,
   "metadata": {
    "colab": {},
    "colab_type": "code",
    "id": "sWJgO4Y_CxfZ"
   },
   "outputs": [],
   "source": [
    "# Five PV units production data\n",
    "unit_assumptions = {\n",
    "    'Unit 1': {'Capacity' : 8, 'LCOE': 3.5},\n",
    "    'Unit 2': {'Capacity' : 12, 'LCOE': 1.25},\n",
    "    'Unit 3': {'Capacity' : 7, 'LCOE': 30.5},\n",
    "    'Unit 4': {'Capacity' : 3, 'LCOE': 13.5},\n",
    "    'Unit 5': {'Capacity' : 5, 'LCOE': 0.5}\n",
    "    }\n",
    "\n",
    "# Save assumptions in a csv\n",
    "pd.DataFrame(data = unit_assumptions).to_csv('PV_settings.csv')"
   ]
  },
  {
   "cell_type": "code",
   "execution_count": 56,
   "metadata": {
    "colab": {},
    "colab_type": "code",
    "id": "Cp7kkgWM1voo"
   },
   "outputs": [],
   "source": [
    "# Generate production data of each PV unit\n",
    "unit_output = {}\n",
    "\n",
    "for key in unit_assumptions.keys():\n",
    "    unit_output[key] = [math.sin(-(hour.hour - 8)/(8-19) * math.pi) * np.random.uniform(0.7,1.1) * unit_assumptions[key]['Capacity'] if (hour.hour >= 8 and hour.hour < 19) else 0 for hour in year_hours]"
   ]
  },
  {
   "cell_type": "code",
   "execution_count": 57,
   "metadata": {
    "colab": {
     "base_uri": "https://localhost:8080/",
     "height": 34
    },
    "colab_type": "code",
    "id": "UL_d7UMGkgR1",
    "outputId": "d0c70d7b-d33e-4ce3-a890-257b8cad8f64"
   },
   "outputs": [],
   "source": [
    "# Save PV units output and price data in a csv\n",
    "PV_output = pd.DataFrame(data = unit_output, index = year_hours)\n",
    "PV_output.to_csv('PV_output.csv')"
   ]
  },
  {
   "cell_type": "markdown",
   "metadata": {},
   "source": [
    "3. Prelimary Exploration"
   ]
  },
  {
   "cell_type": "code",
   "execution_count": 58,
   "metadata": {
    "colab": {
     "base_uri": "https://localhost:8080/",
     "height": 282
    },
    "colab_type": "code",
    "id": "-_4WZ01X3UYz",
    "outputId": "7255c944-d221-4584-f4ea-19d6f8fc4115"
   },
   "outputs": [
    {
     "data": {
      "image/png": "[encoded data removed]",
      "text/plain": [
       "<Figure size 432x288 with 1 Axes>"
      ]
     },
     "metadata": {
      "needs_background": "light"
     },
     "output_type": "display_data"
    }
   ],
   "source": [
    "# Sandbox to explore parsed/generated data\n",
    "\n",
    "plot = PV_output.plot(y='Unit 1', use_index=True)"
   ]
  }
 ],
 "metadata": {
  "colab": {
   "collapsed_sections": [],
   "name": "Price_data.ipynb",
   "provenance": []
  },
  "kernelspec": {
   "display_name": "Python 3",
   "language": "python",
   "name": "python3"
  },
  "language_info": {
   "codemirror_mode": {
    "name": "ipython",
    "version": 3
   },
   "file_extension": ".py",
   "mimetype": "text/x-python",
   "name": "python",
   "nbconvert_exporter": "python",
   "pygments_lexer": "ipython3",
   "version": "3.7.3"
  }
 },
 "nbformat": 4,
 "nbformat_minor": 4
}
